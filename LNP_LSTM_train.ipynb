{
 "cells": [
  {
   "cell_type": "markdown",
   "metadata": {},
   "source": [
    "## LSTM for t=1 to t=20\n",
    "* train best model from from model selection (see 'LNP_LSTM_model_selection')\n",
    "* seperate model for each prediction model (classification or regression) and each cross-validation fold\n",
    "* save out predictions on the test data"
   ]
  },
  {
   "cell_type": "code",
   "execution_count": 1,
   "metadata": {},
   "outputs": [
    {
     "data": {
      "text/html": [
       "<style>.container { width:100% !important; }</style>"
      ],
      "text/plain": [
       "<IPython.core.display.HTML object>"
      ]
     },
     "metadata": {},
     "output_type": "display_data"
    }
   ],
   "source": [
    "from IPython.core.display import display, HTML\n",
    "display(HTML(\"<style>.container { width:100% !important; }</style>\"))"
   ]
  },
  {
   "cell_type": "code",
   "execution_count": 2,
   "metadata": {},
   "outputs": [
    {
     "name": "stderr",
     "output_type": "stream",
     "text": [
      "Using TensorFlow backend.\n"
     ]
    },
    {
     "data": {
      "text/plain": [
       "'2.2.4'"
      ]
     },
     "execution_count": 2,
     "metadata": {},
     "output_type": "execute_result"
    }
   ],
   "source": [
    "from __future__ import absolute_import\n",
    "from __future__ import division\n",
    "from __future__ import print_function\n",
    "import keras\n",
    "keras.__version__"
   ]
  },
  {
   "cell_type": "code",
   "execution_count": 3,
   "metadata": {},
   "outputs": [],
   "source": [
    "import re\n",
    "import numpy as np\n",
    "import pandas as pd \n",
    "import matplotlib.pyplot as plt\n",
    "import cv2\n",
    "import glob"
   ]
  },
  {
   "cell_type": "code",
   "execution_count": 4,
   "metadata": {},
   "outputs": [],
   "source": [
    "from keras.layers import Input, LSTM, Dense, Dropout, Bidirectional\n",
    "from keras.models import Model\n",
    "from keras.optimizers import RMSprop, Adam\n",
    "from keras import backend as K\n",
    "from sklearn.metrics import mean_squared_error\n",
    "from datetime import datetime"
   ]
  },
  {
   "cell_type": "code",
   "execution_count": 5,
   "metadata": {},
   "outputs": [],
   "source": [
    "def atoi(text):\n",
    "    return int(text) if text.isdigit() else text\n",
    "\n",
    "def natural_keys(text):\n",
    "    return [atoi(c) for c in re.split('(\\d+)', text)]"
   ]
  },
  {
   "cell_type": "code",
   "execution_count": 6,
   "metadata": {},
   "outputs": [],
   "source": [
    "def plot_history(model_history, model_name, fit_method):\n",
    "    if fit_method == 'classify':\n",
    "        fig = plt.figure(figsize=(15,5), facecolor='w')\n",
    "        ax = fig.add_subplot(121)\n",
    "        ax.plot(model_history.history['loss'])\n",
    "        ax.plot(model_history.history['val_loss'])\n",
    "        ax.set(title=model_name + ': Model loss', ylabel='Loss', xlabel='Epoch')\n",
    "        ax.legend(['Train', 'Test'], loc='upper right')\n",
    "        ax = fig.add_subplot(122)\n",
    "        ax.plot(model_history.history['acc'])\n",
    "        ax.plot(model_history.history['val_acc'])\n",
    "        ax.set(title=model_name + ': Model accuracy', ylabel='Accuracy', xlabel='Epoch')\n",
    "        ax.legend(['Train', 'Test'], loc='upper right')\n",
    "    else:\n",
    "        fig = plt.figure(figsize=(8,5), facecolor='w')\n",
    "        ax = fig.add_subplot(111)\n",
    "        ax.plot(model_history.history['loss'])\n",
    "        ax.plot(model_history.history['val_loss'])\n",
    "        ax.set(title=model_name + ': Model loss', ylabel='Loss', xlabel='Epoch')\n",
    "        ax.legend(['Train', 'Test'], loc='upper right')\n",
    "    plt.show()\n",
    "    plt.close()"
   ]
  },
  {
   "cell_type": "markdown",
   "metadata": {},
   "source": [
    "### Settings"
   ]
  },
  {
   "cell_type": "code",
   "execution_count": 7,
   "metadata": {},
   "outputs": [],
   "source": [
    "fold = 'fold5'\n",
    "fit_method = 'regress' # clasify or regress\n",
    "\n",
    "n_epochs = 30\n",
    "batch_size = 32\n",
    "n_time = 20\n",
    "n_latent = 32\n",
    "lr = 0.00001\n",
    "\n",
    "save_best = keras.callbacks.ModelCheckpoint('best.weights', monitor='val_loss', verbose=0, save_best_only=True)\n",
    "\n",
    "res_df = pd.read_csv('/scratch-shared/phil/LNP/LNP_data_09/LSTM_model_selection_' + fit_method  + '_' + fold + '.csv')\n",
    "res_df = res_df.sort_values(ascending=True, by='val_loss')\n",
    "res_df = res_df.reset_index()\n",
    "\n",
    "layer_0 = int(res_df['layer_0'][0])\n",
    "layer_1 = int(res_df['layer_1'][0])\n",
    "layer_2 = int(res_df['layer_2'][0])\n",
    "layer_end = int(res_df['layer_end'][0])\n",
    "\n",
    "rec_do = res_df['rec_do'][0]\n",
    "main_do = res_df['main_do'][0]\n",
    "end_do = res_df['end_do'][0]\n",
    "\n",
    "train_ts = np.load('/scratch-shared/phil/LNP/LNP_data_09/train_ts_' + fit_method + '_' + fold + '.npy')\n",
    "train_y = np.load('/scratch-shared/phil/LNP/LNP_data_09/train_cell_gfp_' + fit_method + '_' + fold + '.npy')\n",
    "train_ids = np.load('/scratch-shared/phil/LNP/LNP_data_09/train_cell_ids_' + fit_method + '_' + fold + '.npy')\n",
    "\n",
    "train_index = []\n",
    "valid_index = []\n",
    "\n",
    "for i in range(len(train_ids)):\n",
    "    s0 = train_ids[i].split('train/')\n",
    "    s1 = s0[1].split('_')[0]\n",
    "    if s1 == fold:\n",
    "        valid_index.append(i)\n",
    "    else:\n",
    "        train_index.append(i)\n",
    "\n",
    "train_ts_train = train_ts[train_index]\n",
    "train_y_train = train_y[train_index]\n",
    "train_ts_valid = train_ts[valid_index]\n",
    "train_y_valid = train_y[valid_index]\n",
    "\n",
    "\n",
    "# getting class weights for when in classification mode\n",
    "if fit_method == 'classify':\n",
    "    class_gfp = train_y_train.astype('int64')\n",
    "    weights = class_weight.compute_class_weight('balanced', np.unique(class_gfp), class_gfp)\n",
    "    print('weights = ' + str(weights))"
   ]
  },
  {
   "cell_type": "markdown",
   "metadata": {},
   "source": [
    "### Train model"
   ]
  },
  {
   "cell_type": "code",
   "execution_count": 8,
   "metadata": {},
   "outputs": [
    {
     "name": "stdout",
     "output_type": "stream",
     "text": [
      "_________________________________________________________________\n",
      "Layer (type)                 Output Shape              Param #   \n",
      "=================================================================\n",
      "input_1 (InputLayer)         (None, 20, 32)            0         \n",
      "_________________________________________________________________\n",
      "lstm_1 (LSTM)                (None, 32)                8320      \n",
      "_________________________________________________________________\n",
      "dense_1 (Dense)              (None, 1)                 33        \n",
      "=================================================================\n",
      "Total params: 8,353\n",
      "Trainable params: 8,353\n",
      "Non-trainable params: 0\n",
      "_________________________________________________________________\n",
      "None\n",
      "Train on 3728 samples, validate on 1088 samples\n",
      "Epoch 1/30\n",
      " - 10s - loss: 1.7361 - val_loss: 1.3107\n",
      "Epoch 2/30\n",
      " - 7s - loss: 1.5504 - val_loss: 1.1577\n",
      "Epoch 3/30\n",
      " - 7s - loss: 1.3842 - val_loss: 1.0217\n",
      "Epoch 4/30\n",
      " - 7s - loss: 1.2334 - val_loss: 0.9010\n",
      "Epoch 5/30\n",
      " - 7s - loss: 1.0943 - val_loss: 0.7958\n",
      "Epoch 6/30\n",
      " - 6s - loss: 0.9729 - val_loss: 0.7057\n",
      "Epoch 7/30\n",
      " - 6s - loss: 0.8675 - val_loss: 0.6305\n",
      "Epoch 8/30\n",
      " - 6s - loss: 0.7736 - val_loss: 0.5694\n",
      "Epoch 9/30\n",
      " - 6s - loss: 0.6957 - val_loss: 0.5213\n",
      "Epoch 10/30\n",
      " - 6s - loss: 0.6292 - val_loss: 0.4842\n",
      "Epoch 11/30\n",
      " - 6s - loss: 0.5730 - val_loss: 0.4561\n",
      "Epoch 12/30\n",
      " - 6s - loss: 0.5293 - val_loss: 0.4349\n",
      "Epoch 13/30\n",
      " - 6s - loss: 0.4907 - val_loss: 0.4188\n",
      "Epoch 14/30\n",
      " - 6s - loss: 0.4601 - val_loss: 0.4063\n",
      "Epoch 15/30\n",
      " - 6s - loss: 0.4342 - val_loss: 0.3961\n",
      "Epoch 16/30\n",
      " - 6s - loss: 0.4121 - val_loss: 0.3873\n",
      "Epoch 17/30\n",
      " - 6s - loss: 0.3918 - val_loss: 0.3794\n",
      "Epoch 18/30\n",
      " - 6s - loss: 0.3762 - val_loss: 0.3721\n",
      "Epoch 19/30\n",
      " - 6s - loss: 0.3612 - val_loss: 0.3655\n",
      "Epoch 20/30\n",
      " - 6s - loss: 0.3471 - val_loss: 0.3592\n",
      "Epoch 21/30\n",
      " - 6s - loss: 0.3350 - val_loss: 0.3532\n",
      "Epoch 22/30\n",
      " - 6s - loss: 0.3240 - val_loss: 0.3479\n",
      "Epoch 23/30\n",
      " - 6s - loss: 0.3145 - val_loss: 0.3430\n",
      "Epoch 24/30\n",
      " - 6s - loss: 0.3052 - val_loss: 0.3385\n",
      "Epoch 25/30\n",
      " - 6s - loss: 0.2959 - val_loss: 0.3345\n",
      "Epoch 26/30\n",
      " - 6s - loss: 0.2876 - val_loss: 0.3306\n",
      "Epoch 27/30\n",
      " - 6s - loss: 0.2794 - val_loss: 0.3272\n",
      "Epoch 28/30\n",
      " - 6s - loss: 0.2725 - val_loss: 0.3241\n",
      "Epoch 29/30\n",
      " - 6s - loss: 0.2665 - val_loss: 0.3213\n",
      "Epoch 30/30\n",
      " - 6s - loss: 0.2598 - val_loss: 0.3186\n"
     ]
    },
    {
     "data": {
      "image/png": "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
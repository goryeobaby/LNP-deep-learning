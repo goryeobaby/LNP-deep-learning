{
 "cells": [
  {
   "cell_type": "markdown",
   "metadata": {},
   "source": [
    "## LSTM for t=1 to t=20\n",
    "* train best model from from model selection (see 'LNP_LSTM_model_selection')\n",
    "* seperate model for each prediction model (classification or regression) and each cross-validation fold\n",
    "* save out predictions on the test data"
   ]
  },
  {
   "cell_type": "code",
   "execution_count": 1,
   "metadata": {},
   "outputs": [
    {
     "data": {
      "text/html": [
       "<style>.container { width:100% !important; }</style>"
      ],
      "text/plain": [
       "<IPython.core.display.HTML object>"
      ]
     },
     "metadata": {},
     "output_type": "display_data"
    }
   ],
   "source": [
    "from IPython.core.display import display, HTML\n",
    "display(HTML(\"<style>.container { width:100% !important; }</style>\"))"
   ]
  },
  {
   "cell_type": "code",
   "execution_count": 2,
   "metadata": {},
   "outputs": [
    {
     "name": "stderr",
     "output_type": "stream",
     "text": [
      "Using TensorFlow backend.\n"
     ]
    },
    {
     "data": {
      "text/plain": [
       "'2.2.4'"
      ]
     },
     "execution_count": 2,
     "metadata": {},
     "output_type": "execute_result"
    }
   ],
   "source": [
    "from __future__ import absolute_import\n",
    "from __future__ import division\n",
    "from __future__ import print_function\n",
    "import keras\n",
    "keras.__version__"
   ]
  },
  {
   "cell_type": "code",
   "execution_count": 3,
   "metadata": {},
   "outputs": [],
   "source": [
    "import re\n",
    "import numpy as np\n",
    "import pandas as pd \n",
    "import matplotlib.pyplot as plt\n",
    "import cv2\n",
    "import glob"
   ]
  },
  {
   "cell_type": "code",
   "execution_count": 4,
   "metadata": {},
   "outputs": [],
   "source": [
    "from keras.layers import Input, LSTM, Dense, Dropout, Bidirectional\n",
    "from keras.models import Model\n",
    "from keras.optimizers import RMSprop, Adam\n",
    "from keras import backend as K\n",
    "from sklearn.metrics import mean_squared_error\n",
    "from datetime import datetime"
   ]
  },
  {
   "cell_type": "code",
   "execution_count": 5,
   "metadata": {},
   "outputs": [],
   "source": [
    "def atoi(text):\n",
    "    return int(text) if text.isdigit() else text\n",
    "\n",
    "def natural_keys(text):\n",
    "    return [atoi(c) for c in re.split('(\\d+)', text)]"
   ]
  },
  {
   "cell_type": "code",
   "execution_count": 6,
   "metadata": {},
   "outputs": [],
   "source": [
    "def plot_history(model_history, model_name, fit_method):\n",
    "    if fit_method == 'classify':\n",
    "        fig = plt.figure(figsize=(15,5), facecolor='w')\n",
    "        ax = fig.add_subplot(121)\n",
    "        ax.plot(model_history.history['loss'])\n",
    "        ax.plot(model_history.history['val_loss'])\n",
    "        ax.set(title=model_name + ': Model loss', ylabel='Loss', xlabel='Epoch')\n",
    "        ax.legend(['Train', 'Test'], loc='upper right')\n",
    "        ax = fig.add_subplot(122)\n",
    "        ax.plot(model_history.history['acc'])\n",
    "        ax.plot(model_history.history['val_acc'])\n",
    "        ax.set(title=model_name + ': Model accuracy', ylabel='Accuracy', xlabel='Epoch')\n",
    "        ax.legend(['Train', 'Test'], loc='upper right')\n",
    "    else:\n",
    "        fig = plt.figure(figsize=(8,5), facecolor='w')\n",
    "        ax = fig.add_subplot(111)\n",
    "        ax.plot(model_history.history['loss'])\n",
    "        ax.plot(model_history.history['val_loss'])\n",
    "        ax.set(title=model_name + ': Model loss', ylabel='Loss', xlabel='Epoch')\n",
    "        ax.legend(['Train', 'Test'], loc='upper right')\n",
    "    plt.show()\n",
    "    plt.close()"
   ]
  },
  {
   "cell_type": "markdown",
   "metadata": {},
   "source": [
    "### Settings"
   ]
  },
  {
   "cell_type": "code",
   "execution_count": 7,
   "metadata": {},
   "outputs": [],
   "source": [
    "fold = 'fold5'\n",
    "fit_method = 'regress' # clasify or regress\n",
    "\n",
    "n_epochs = 30\n",
    "batch_size = 32\n",
    "n_time = 20\n",
    "n_latent = 32\n",
    "lr = 0.00001\n",
    "\n",
    "save_best = keras.callbacks.ModelCheckpoint('best.weights', monitor='val_loss', verbose=0, save_best_only=True)\n",
    "\n",
    "res_df = pd.read_csv('/scratch-shared/phil/LNP/LNP_data_09/LSTM_model_selection_' + fit_method  + '_' + fold + '.csv')\n",
    "res_df = res_df.sort_values(ascending=True, by='val_loss')\n",
    "res_df = res_df.reset_index()\n",
    "\n",
    "layer_0 = int(res_df['layer_0'][0])\n",
    "layer_1 = int(res_df['layer_1'][0])\n",
    "layer_2 = int(res_df['layer_2'][0])\n",
    "layer_end = int(res_df['layer_end'][0])\n",
    "\n",
    "rec_do = res_df['rec_do'][0]\n",
    "main_do = res_df['main_do'][0]\n",
    "end_do = res_df['end_do'][0]\n",
    "\n",
    "train_ts = np.load('/scratch-shared/phil/LNP/LNP_data_09/train_ts_' + fit_method + '_' + fold + '.npy')\n",
    "train_y = np.load('/scratch-shared/phil/LNP/LNP_data_09/train_cell_gfp_' + fit_method + '_' + fold + '.npy')\n",
    "train_ids = np.load('/scratch-shared/phil/LNP/LNP_data_09/train_cell_ids_' + fit_method + '_' + fold + '.npy')\n",
    "\n",
    "train_index = []\n",
    "valid_index = []\n",
    "\n",
    "for i in range(len(train_ids)):\n",
    "    s0 = train_ids[i].split('train/')\n",
    "    s1 = s0[1].split('_')[0]\n",
    "    if s1 == fold:\n",
    "        valid_index.append(i)\n",
    "    else:\n",
    "        train_index.append(i)\n",
    "\n",
    "train_ts_train = train_ts[train_index]\n",
    "train_y_train = train_y[train_index]\n",
    "train_ts_valid = train_ts[valid_index]\n",
    "train_y_valid = train_y[valid_index]\n",
    "\n",
    "\n",
    "# getting class weights for when in classification mode\n",
    "if fit_method == 'classify':\n",
    "    class_gfp = train_y_train.astype('int64')\n",
    "    weights = class_weight.compute_class_weight('balanced', np.unique(class_gfp), class_gfp)\n",
    "    print('weights = ' + str(weights))"
   ]
  },
  {
   "cell_type": "markdown",
   "metadata": {},
   "source": [
    "### Train model"
   ]
  },
  {
   "cell_type": "code",
   "execution_count": 8,
   "metadata": {},
   "outputs": [
    {
     "name": "stdout",
     "output_type": "stream",
     "text": [
      "_________________________________________________________________\n",
      "Layer (type)                 Output Shape              Param #   \n",
      "=================================================================\n",
      "input_1 (InputLayer)         (None, 20, 32)            0         \n",
      "_________________________________________________________________\n",
      "lstm_1 (LSTM)                (None, 32)                8320      \n",
      "_________________________________________________________________\n",
      "dense_1 (Dense)              (None, 1)                 33        \n",
      "=================================================================\n",
      "Total params: 8,353\n",
      "Trainable params: 8,353\n",
      "Non-trainable params: 0\n",
      "_________________________________________________________________\n",
      "None\n",
      "Train on 3728 samples, validate on 1088 samples\n",
      "Epoch 1/30\n",
      " - 10s - loss: 1.7361 - val_loss: 1.3107\n",
      "Epoch 2/30\n",
      " - 7s - loss: 1.5504 - val_loss: 1.1577\n",
      "Epoch 3/30\n",
      " - 7s - loss: 1.3842 - val_loss: 1.0217\n",
      "Epoch 4/30\n",
      " - 7s - loss: 1.2334 - val_loss: 0.9010\n",
      "Epoch 5/30\n",
      " - 7s - loss: 1.0943 - val_loss: 0.7958\n",
      "Epoch 6/30\n",
      " - 6s - loss: 0.9729 - val_loss: 0.7057\n",
      "Epoch 7/30\n",
      " - 6s - loss: 0.8675 - val_loss: 0.6305\n",
      "Epoch 8/30\n",
      " - 6s - loss: 0.7736 - val_loss: 0.5694\n",
      "Epoch 9/30\n",
      " - 6s - loss: 0.6957 - val_loss: 0.5213\n",
      "Epoch 10/30\n",
      " - 6s - loss: 0.6292 - val_loss: 0.4842\n",
      "Epoch 11/30\n",
      " - 6s - loss: 0.5730 - val_loss: 0.4561\n",
      "Epoch 12/30\n",
      " - 6s - loss: 0.5293 - val_loss: 0.4349\n",
      "Epoch 13/30\n",
      " - 6s - loss: 0.4907 - val_loss: 0.4188\n",
      "Epoch 14/30\n",
      " - 6s - loss: 0.4601 - val_loss: 0.4063\n",
      "Epoch 15/30\n",
      " - 6s - loss: 0.4342 - val_loss: 0.3961\n",
      "Epoch 16/30\n",
      " - 6s - loss: 0.4121 - val_loss: 0.3873\n",
      "Epoch 17/30\n",
      " - 6s - loss: 0.3918 - val_loss: 0.3794\n",
      "Epoch 18/30\n",
      " - 6s - loss: 0.3762 - val_loss: 0.3721\n",
      "Epoch 19/30\n",
      " - 6s - loss: 0.3612 - val_loss: 0.3655\n",
      "Epoch 20/30\n